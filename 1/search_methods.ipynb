{
 "cells": [
  {
   "cell_type": "markdown",
   "metadata": {},
   "source": [
    "### Lab 1. 1D search methods"
   ]
  },
  {
   "cell_type": "markdown",
   "metadata": {},
   "source": [
    "1. Implement methods: Dichotomy, golden-section search, Fibonacci, Successive parabolic search, Brent's method.\n",
    "2. Check on unimodal functions of different nature (discussed in lectures)\n",
    "3. Test on many-modal functions.\n",
    "4. Create plots: the number of iterations/calculations of the function versus accuracy, the dynamics of the uncertainty interval for the given function.\n",
    "5. Bonus: measuring code execution time. It is recommended to run several times for averaging."
   ]
  },
  {
   "cell_type": "markdown",
   "metadata": {},
   "source": [
    "### 1.\n",
    "Implement methods:\n",
    "1. Dichotomy search\n",
    "2. Golden-section search\n",
    "3. Fibonacci search\n",
    "4. Successive parabolic interpolation\n",
    "5. Brent's method\n",
    "\n",
    "---"
   ]
  },
  {
   "cell_type": "code",
   "execution_count": 211,
   "metadata": {},
   "outputs": [],
   "source": [
    "import numpy as np\n",
    "from typing import Callable"
   ]
  },
  {
   "cell_type": "code",
   "execution_count": 212,
   "metadata": {},
   "outputs": [],
   "source": [
    "def dichotomy_search(f: Callable[[float], float], a: float, b: float, eps=1e-9):\n",
    "    if b < a:\n",
    "        a, b = b, a\n",
    "    \n",
    "    w = eps / 3\n",
    "    # w < eps/2\n",
    "    while abs(b - a) > eps:\n",
    "        c = (a + b) * 0.5\n",
    "        d = c - w\n",
    "        e = c + w\n",
    "        if f(d) < f(e):\n",
    "            b = e\n",
    "        else:\n",
    "            a = d\n",
    "\n",
    "    return (b + a) / 2"
   ]
  },
  {
   "cell_type": "code",
   "execution_count": 213,
   "metadata": {},
   "outputs": [],
   "source": [
    "def golden_section_search(f: Callable[[float], float], a: float, b: float, eps=1e-9):\n",
    "    if b < a:\n",
    "        a, b = b, a\n",
    "    # a < x < y < b\n",
    "    # (b-a)/(b-x) = (b-x)/(x-a)\n",
    "    # (b-a)(x-a) = (b-x)(b-x)\n",
    "    # (b-a)(-(b-x)+b-a) = (b-x)(b-x)\n",
    "    # (b-a)(-z+b-a) = z^2\n",
    "    # 0 = z^2 + z(b-a) - (b-a)^2\n",
    "    # z = (a-b)/2 +- sqrt(5)/2(b-a)\n",
    "    # z = b - x = (-1 +- sqrt(5))/2 (b-a)\n",
    "    # x = b + (1 -+ sqrt(5))/2 (b-a)\n",
    "    #   = b - (sqrt(5) - 1)/2 (b-a)\n",
    "    # y = a + (sqrt(5) - 1)/2 (b-a)\n",
    "    \n",
    "    # golden ratio\n",
    "    gr = (5**0.5 - 1) / 2\n",
    "    while abs(b - a) > eps:\n",
    "        x = b - (b - a) * gr\n",
    "        y = a + (b - a) * gr\n",
    "        if f(x) < f(y):\n",
    "            b = y\n",
    "        else:\n",
    "            a = x\n",
    "\n",
    "    return (b + a) / 2"
   ]
  },
  {
   "cell_type": "code",
   "execution_count": 214,
   "metadata": {},
   "outputs": [],
   "source": [
    "def fibonacci_search(f: Callable[[float], float], a: float, b: float, eps=1e-9):\n",
    "    if b < a:\n",
    "        a, b = b, a\n",
    "    # a < x < y < b\n",
    "    # x - a = b - y\n",
    "\n",
    "    # Ln = an - bn = w < eps\n",
    "    # xn = an + w / 2\n",
    "    # yn = bn - w / 2 = xn\n",
    "\n",
    "    # Ln-1 = 2 Ln - w / 2\n",
    "    # Ln-2 = Ln-1 + Ln\n",
    "\n",
    "    # Ln   =  1  * w = 2 * w / 2   | ...\n",
    "    # Ln-1 = 1.5 * w = 3 * w / 2   | ....\n",
    "    # Ln-2 = 2.5 * w = 5 * w / 2   | .. ..\n",
    "    # Ln-3 =         = 8 * w / 2   | .  ..  .\n",
    "    # Ln-3 =         = 13 * w / 2  | .   .  .   .\n",
    "\n",
    "    # |=> Lk = Fn+3-k * w / 2\n",
    "    #    Fn+2 = Fn+1 + Fn\n",
    "    #    F0 = 0\n",
    "    #    F1 = 1\n",
    "\n",
    "    # xn-1 = an-1 + 1 * w / 2\n",
    "    # yn-1 = an-1 + 2 * w / 2\n",
    "    # xn-2 = an-2 + 2 * w / 2\n",
    "    # yn-2 = an-2 + 3 * w / 2\n",
    "    # =>\n",
    "    # xk = ak + Lk+2\n",
    "    # yk = ak + Lk+1\n",
    "\n",
    "    # eps ~ Fn ?\n",
    "    # L0 = Fn+3 * w / 2\n",
    "    # 2 * L0 / Fn+3 = w < eps\n",
    "    # =>\n",
    "    # Fn+3 > 2 * (b - a) / eps\n",
    "\n",
    "    def F(k: int) -> int:\n",
    "        \"\"\"-> nth fibonacci number\"\"\"\n",
    "        assert type(n) is int\n",
    "        if k < 0:\n",
    "            return None\n",
    "        if not hasattr(fibonacci_search, \"fib_dict\"):\n",
    "            # init hash\n",
    "            fibonacci_search.fib_dict = dict()\n",
    "            fibonacci_search.fib_dict[0] = 0\n",
    "            fibonacci_search.fib_dict[1] = 1\n",
    "\n",
    "        if k not in fibonacci_search.fib_dict:\n",
    "            fibonacci_search.fib_dict[k] = F(k - 2) + F(k - 1)\n",
    "\n",
    "        return fibonacci_search.fib_dict[k]\n",
    "\n",
    "    # find n\n",
    "    n = 0\n",
    "    while 2 * (b - a) >= eps * F(n + 3):\n",
    "        n += 1\n",
    "\n",
    "    def L(k: int) -> float:\n",
    "        # 2 * L0 / Fn+3 = w\n",
    "        # Lk = Fn+3-k * w / 2\n",
    "        # =>\n",
    "        # Lk = Fn+3-k * L0 / Fn+3\n",
    "        assert n + 3 - k >= 0\n",
    "        assert n + 3 >= 0\n",
    "        return F(n + 3 - k) / F(n + 3) * (b - a)\n",
    "\n",
    "    assert L(n + 2) == L(n + 1)\n",
    "    ak = a\n",
    "    x = ak + L(2)\n",
    "    y = ak + L(1)\n",
    "    fx = f(x)\n",
    "    fy = f(y)\n",
    "    for k in range(1, n + 1):\n",
    "        if fx < fy:\n",
    "            # a     x y b\n",
    "            # a (x) y b\n",
    "            y = x\n",
    "            fy = fx\n",
    "            x = ak + L(k + 2)\n",
    "            fx = f(x)\n",
    "        else:\n",
    "            # a x y     b\n",
    "            #   a x (y) b\n",
    "            ak = x\n",
    "            x = y\n",
    "            fx = fy\n",
    "            y = ak + L(k + 1)\n",
    "            fy = f(y)\n",
    "    return x"
   ]
  },
  {
   "cell_type": "code",
   "execution_count": 215,
   "metadata": {},
   "outputs": [],
   "source": [
    "def spi(f: Callable[[float], float], a: float, b: float, eps=1e-9):\n",
    "    if b < a:\n",
    "        a, b = b, a\n",
    "    # a < (x < y) < b\n",
    "    # ->\n",
    "    # x1 < x2 < x3\n",
    "    x1 = a\n",
    "    x2 = (b + a) / 2\n",
    "    x3 = b\n",
    "    f1 = f(x1)\n",
    "    f2 = f(x2)\n",
    "    f3 = f(x3)\n",
    "    # f(x) ~= p(x) = a x^2 + b x + c\n",
    "    # f1 = a x1^2 + b x1 + c\n",
    "    # f2 = a x2^2 + b x2 + c\n",
    "    # f3 = a x3^2 + b x3 + c\n",
    "\n",
    "    # f1 - f2 = a (x1^2 - x2^2) + b (x1 - x2)\n",
    "    # f2 - f3 = a (x2^2 - x3^2) + b (x2 - x3)\n",
    "    # [F1]   [ X1 X2 ] [a]\n",
    "    # [F2] = [ X3 X4 ] [b]\n",
    "    # =>\n",
    "    # [a]   [ X4  -X2 ] [F1]\n",
    "    # [b] = [ -X3  X1 ] [F2] / (X1 X4 - X2 X3)\n",
    "\n",
    "    # u = - b / (2 a)\n",
    "    #   = - (-X3 F1 + X1 F2)/(2 * (X4 F1 - X2 F2))\n",
    "    #   = (X3 F1 - X1 F2)/(2 * (X4 F1 - X2 F2))\n",
    "    while abs(x3 - x1) > eps:\n",
    "        X1 = x1**2 - x2**2\n",
    "        X2 = x1 - x2\n",
    "        X3 = x2**2 - x3**2\n",
    "        X4 = x2 - x3\n",
    "        F1 = f1 - f2\n",
    "        F2 = f2 - f3\n",
    "        if (X4 * F1 - X2 * F2) == 0.:\n",
    "            return x2\n",
    "        u = (X3 * F1 - X1 * F2) / (2 * (X4 * F1 - X2 * F2))\n",
    "        fu = f(u)\n",
    "        if not (x1 < u < x3):\n",
    "            return x2\n",
    "        # sort\n",
    "        if u < x2:\n",
    "            x2, u = u, x2\n",
    "            f2, fu = fu, f2\n",
    "        # print(x1, x2, u, x3)\n",
    "        if f2 < fu:\n",
    "            # x1 x2     u  x3\n",
    "            # x1 x2 (u) x3\n",
    "            x3 = u\n",
    "            f3 = fu\n",
    "        else:\n",
    "            # x1 x2 u      x3\n",
    "            #    x1 x2 (u) x3\n",
    "            x1 = x2\n",
    "            x2 = u\n",
    "            f1 = f2\n",
    "            f2 = fu\n",
    "\n",
    "    return (x1 + x3) / 2"
   ]
  },
  {
   "cell_type": "code",
   "execution_count": null,
   "metadata": {},
   "outputs": [],
   "source": [
    "def brent_search(f: Callable[[float], float], a: float, b: float, eps=1e-9):\n",
    "    "
   ]
  },
  {
   "cell_type": "markdown",
   "metadata": {},
   "source": [
    "### 2.\n",
    "Check on unimodal functions of different nature (discussed in lectures)\n",
    "\n",
    "---"
   ]
  },
  {
   "cell_type": "code",
   "execution_count": 216,
   "metadata": {},
   "outputs": [
    {
     "data": {
      "image/png": "[encoded data removed]",
      "text/plain": [
       "<Figure size 640x480 with 1 Axes>"
      ]
     },
     "metadata": {},
     "output_type": "display_data"
    }
   ],
   "source": [
    "import numpy as np\n",
    "import matplotlib.pyplot as plt\n",
    "\n",
    "\n",
    "def f(x):\n",
    "    return 1 / (1 + np.exp(-np.abs(x + 0.5))) - 0.3\n",
    "\n",
    "\n",
    "x = np.linspace(-5, 5, num=400)\n",
    "y = [f(i) for i in x]\n",
    "\n",
    "plt.plot(x, y)\n",
    "plt.title(\"f\")\n",
    "plt.grid(True)\n",
    "plt.show()"
   ]
  },
  {
   "cell_type": "code",
   "execution_count": 217,
   "metadata": {},
   "outputs": [
    {
     "name": "stdout",
     "output_type": "stream",
     "text": [
      "-0.4999999999957704 -0.5000000000516955 -0.5000000001473116 -0.5\n"
     ]
    }
   ],
   "source": [
    "a = -5\n",
    "b = 5\n",
    "print(dichotomy_search(f, a, b), \n",
    "golden_section_search(f, a, b),\n",
    "fibonacci_search(f,a,b),\n",
    "spi(f,a,b),\n",
    ")"
   ]
  }
 ],
 "metadata": {
  "kernelspec": {
   "display_name": "scs",
   "language": "python",
   "name": "python3"
  },
  "language_info": {
   "codemirror_mode": {
    "name": "ipython",
    "version": 3
   },
   "file_extension": ".py",
   "mimetype": "text/x-python",
   "name": "python",
   "nbconvert_exporter": "python",
   "pygments_lexer": "ipython3",
   "version": "3.11.8"
  }
 },
 "nbformat": 4,
 "nbformat_minor": 2
}
