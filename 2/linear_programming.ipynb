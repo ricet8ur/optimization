{
 "cells": [
  {
   "cell_type": "markdown",
   "metadata": {},
   "source": [
    "### Lab 2. Linear programming"
   ]
  },
  {
   "cell_type": "markdown",
   "metadata": {},
   "source": [
    "1. Implement an option to enter data from a JSON file.\n",
    "2. If necessary, add balancing variables to make a transition from the general formulation to the canonical form of the problem of linear\n",
    "programming\n",
    "3. Use the artificial basis method, if necessary, to select the primary reference plan.\n",
    "4. Implement the simplex method to solve the problem.\n",
    "5. Consider that the problem may have no solutions at all,\n",
    "and have an infinite number of solutions.\n",
    "6. Implement sequential output of simplex tables at all steps of the algorithm."
   ]
  },
  {
   "cell_type": "markdown",
   "metadata": {},
   "source": [
    "#### 1\n",
    "\n",
    "Implement an option to enter data from a JSON file."
   ]
  },
  {
   "cell_type": "code",
   "execution_count": 13,
   "metadata": {},
   "outputs": [],
   "source": [
    "from pathlib import Path\n",
    "import numpy as np\n",
    "import orjson as json\n",
    "\n",
    "\n",
    "class problem:\n",
    "    f_coefs = \"f\"\n",
    "    f_goal = \"goal\"\n",
    "    goal_min = \"min\"\n",
    "    goal_max = \"max\"\n",
    "    f_constraints = \"constraints\"\n",
    "    constraint_coefs = \"coefs\"\n",
    "    constraint_type = \"type\"\n",
    "    type_lte = \"lte\"\n",
    "    type_gte = \"gte\"\n",
    "    type_eq = \"eq\"\n",
    "    constraint_b = \"b\"\n",
    "\n",
    "    def __init__(self):\n",
    "        self.problem_description: dict = None\n",
    "\n",
    "    def parse_from_json(self, s: str | Path) -> bool:\n",
    "        if isinstance(s, Path):\n",
    "            with open(s, \"rb\") as f:\n",
    "                s = f.read()\n",
    "        try:\n",
    "            problem_description: dict = json.loads(s)\n",
    "        except:\n",
    "            problem_description = None\n",
    "            print(\"Error on problem parsing: s = \", s)\n",
    "        self.problem_description = problem_description\n",
    "        return problem is not None\n",
    "\n",
    "    def is_problem(self) -> bool:\n",
    "        \"\"\"check that all the necessary fields exits\n",
    "        and have the values have the appropriate types\"\"\"\n",
    "        import numbers\n",
    "\n",
    "        pd = self.problem_description\n",
    "        if pd is None:\n",
    "            print(\"problem description does not exits\")\n",
    "            return False\n",
    "        fields_list = [problem.f_coefs, problem.f_goal, problem.f_constraints]\n",
    "        for field in fields_list:\n",
    "            if field not in pd:\n",
    "                print(f\"field '{field}' does not exits\")\n",
    "                return False\n",
    "        if (\n",
    "            not isinstance(pd[problem.f_coefs], list)\n",
    "            or not isinstance(pd[problem.f_goal], str)\n",
    "            or not isinstance(pd[problem.f_constraints], list)\n",
    "        ):\n",
    "            return False\n",
    "        for coef in pd[problem.f_coefs]:\n",
    "            if not isinstance(coef, numbers.Number):\n",
    "                print(f\"coef '{coef}' is not numeric type\")\n",
    "                return False\n",
    "\n",
    "        constraints_fields_list = [\n",
    "            problem.constraint_b,\n",
    "            problem.constraint_type,\n",
    "            problem.constraint_coefs,\n",
    "        ]\n",
    "        for constraint in pd[problem.f_constraints]:\n",
    "            for field in constraints_fields_list:\n",
    "                if field not in constraint:\n",
    "                    print(\n",
    "                        f\"field '{field}' in constraint '{constraint}' does not exits\"\n",
    "                    )\n",
    "                    return False\n",
    "            if (\n",
    "                not isinstance(constraint[problem.constraint_b], numbers.Number)\n",
    "                or not isinstance(constraint[problem.constraint_type], str)\n",
    "                or not isinstance(constraint[problem.constraint_coefs], list)\n",
    "            ):\n",
    "                print(f\"constraint '{constraint}' has wrong format\")\n",
    "                return False\n",
    "            for coef in constraint[problem.constraint_coefs]:\n",
    "                if not isinstance(coef, numbers.Number):\n",
    "                    print(\n",
    "                        f\"coef '{coef}' in constraint '{constraint}' is not numeric type\"\n",
    "                    )\n",
    "                    return False\n",
    "        return True"
   ]
  },
  {
   "cell_type": "code",
   "execution_count": 15,
   "metadata": {},
   "outputs": [],
   "source": [
    "def test_input():\n",
    "    json_text = R\"\"\"{ \"f\": [1, 2, 3],\n",
    "\"goal\": \"max\",\n",
    "\"constraints\": [{\"coefs\": [1, 0, 0],\n",
    "\"type\": \"lte\",\n",
    "\"b\": 1},\n",
    "{\"coefs\": [1, 1, 0],\n",
    "\"type\": \"gte\",\n",
    "\"b\": 2},\n",
    "{\"coefs\": [1, 1, 1],\n",
    "\"type\": \"eq\",\n",
    "\"b\": 3}]}\"\"\"\n",
    "    a = problem()\n",
    "    assert a.parse_from_json(json_text)\n",
    "    # print(a.problem_description)\n",
    "    assert a.is_problem()\n",
    "test_input()"
   ]
  },
  {
   "cell_type": "markdown",
   "metadata": {},
   "source": [
    "#### 2\n",
    "If necessary, add balancing variables to make a transition from the general formulation to the canonical form of the problem of linear\n",
    "programming\n"
   ]
  },
  {
   "cell_type": "code",
   "execution_count": 17,
   "metadata": {},
   "outputs": [],
   "source": [
    "def is_canonical_form(self) -> bool:\n",
    "    if not self.is_problem():\n",
    "        return False\n",
    "    if self.problem_description[problem.f_goal] == problem.goal_max:\n",
    "        return False\n",
    "    for constraint in self.problem_description[problem.f_constraints]:\n",
    "        if constraint[problem.constraint_type] != problem.type_eq:\n",
    "            return False\n",
    "    return True\n",
    "\n",
    "\n",
    "problem.is_canonical_form = is_canonical_form\n",
    "\n",
    "\n",
    "def to_canonical_form(self) -> \"problem\":\n",
    "    \"\"\"f->min + constraints: only eq\"\"\"\n",
    "    if not self.is_problem():\n",
    "        return problem()\n",
    "    p = problem()\n",
    "    p.problem_description = self.problem_description.copy()\n",
    "    pd = p.problem_description\n",
    "\n",
    "    if self.is_canonical_form():\n",
    "        return p\n",
    "\n",
    "    if pd[problem.f_goal] == problem.goal_max:\n",
    "        pd[problem.f_coefs] = [-coef for coef in pd[problem.f_coefs]]\n",
    "        pd[problem.f_goal] = problem.goal_min\n",
    "    for constraint in pd[problem.f_constraints]:\n",
    "        if constraint[problem.constraint_type] == problem.type_eq:\n",
    "            continue\n",
    "        # add balancing vars\n",
    "        elif constraint[problem.constraint_type] == problem.type_gte:\n",
    "            constraint[problem.constraint_coefs].append(-1)\n",
    "        elif constraint[problem.constraint_type] == problem.type_lte:\n",
    "            constraint[problem.constraint_coefs].append(1)\n",
    "        constraint[problem.constraint_type] = problem.type_eq\n",
    "    return p\n",
    "\n",
    "\n",
    "problem.to_canonical_form = to_canonical_form"
   ]
  },
  {
   "cell_type": "code",
   "execution_count": 20,
   "metadata": {},
   "outputs": [
    {
     "name": "stdout",
     "output_type": "stream",
     "text": [
      "{'f': [-1, -2, -3], 'goal': 'min', 'constraints': [{'coefs': [1, 0, 0, 1], 'type': 'eq', 'b': 1}, {'coefs': [1, 1, 0, -1], 'type': 'eq', 'b': 2}, {'coefs': [1, 1, 1], 'type': 'eq', 'b': 3}]}\n"
     ]
    }
   ],
   "source": [
    "def test_canonical_form():\n",
    "    json_text = R\"\"\"{ \"f\": [1, 2, 3],\n",
    "\"goal\": \"max\",\n",
    "\"constraints\": [{\"coefs\": [1, 0, 0],\n",
    "\"type\": \"lte\",\n",
    "\"b\": 1},\n",
    "{\"coefs\": [1, 1, 0],\n",
    "\"type\": \"gte\",\n",
    "\"b\": 2},\n",
    "{\"coefs\": [1, 1, 1],\n",
    "\"type\": \"eq\",\n",
    "\"b\": 3}]}\"\"\"\n",
    "    a = problem()\n",
    "    assert a.parse_from_json(json_text)\n",
    "    # print(a.problem_description)\n",
    "    assert a.is_problem()\n",
    "    assert not a.is_canonical_form()\n",
    "    b = a.to_canonical_form()\n",
    "    print(b.problem_description)\n",
    "    assert b.is_canonical_form()\n",
    "\n",
    "\n",
    "test_canonical_form()"
   ]
  },
  {
   "cell_type": "markdown",
   "metadata": {},
   "source": [
    "#### 3\n",
    "Use the artificial basis method, if necessary, to select the primary reference plan.\n"
   ]
  },
  {
   "cell_type": "code",
   "execution_count": null,
   "metadata": {},
   "outputs": [],
   "source": []
  },
  {
   "cell_type": "markdown",
   "metadata": {},
   "source": [
    "#### 4\n",
    "Implement the simplex method to solve the problem.\n"
   ]
  },
  {
   "cell_type": "markdown",
   "metadata": {},
   "source": [
    "#### 5\n",
    "Consider that the problem may have no solutions at all,\n",
    "and have an infinite number of solutions.\n"
   ]
  },
  {
   "cell_type": "markdown",
   "metadata": {},
   "source": [
    "#### 6\n",
    "Implement sequential output of simplex tables at all steps of the algorithm."
   ]
  }
 ],
 "metadata": {
  "kernelspec": {
   "display_name": "scs",
   "language": "python",
   "name": "python3"
  },
  "language_info": {
   "codemirror_mode": {
    "name": "ipython",
    "version": 3
   },
   "file_extension": ".py",
   "mimetype": "text/x-python",
   "name": "python",
   "nbconvert_exporter": "python",
   "pygments_lexer": "ipython3",
   "version": "3.11.8"
  }
 },
 "nbformat": 4,
 "nbformat_minor": 2
}
